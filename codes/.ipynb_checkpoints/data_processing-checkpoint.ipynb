{
 "cells": [
  {
   "cell_type": "code",
   "execution_count": null,
   "metadata": {},
   "outputs": [],
   "source": [
    "\"\"\"\n",
    "Helper function for data procssing\n",
    "\"\"\"\n",
    "\n",
    "import numpy as np \n",
    "\n",
    "def segment_spectrum(spectrum, w=50, dw=25):\n",
    "    \"\"\"\n",
    "    Segment the raman spectrum into overlapping windows\n",
    "\n",
    "    Args:\n",
    "        spectrum (numpy array): input raman spectrum\n",
    "        w (int, optional): length of window. Defaults to 50.\n",
    "        dw (int, optional): step size. Defaults to 25.\n",
    "\n",
    "    Returns:\n",
    "        numpy array: array of segmented raman spectrum\n",
    "    \"\"\"\n",
    "\n",
    "    return np.array([spectrum[i:i+w] for i in range(0,len(spectrum)-w,dw) ])\n",
    "\n",
    "    ### inefficient ###\n",
    "    #segments = []\n",
    "    #for i in range(0,len(sig)-w,dw):\n",
    "    #    segments.append(sig[i:i+w])\n",
    "\n",
    "    #return np.array(segments)\n",
    "\n",
    "def segment_spectrum_batch(spectra_mat, w=50, dw=25):\n",
    "    \"\"\"\n",
    "    Segment multiple raman spectra into overlapping windows\n",
    "\n",
    "    Args:\n",
    "        spectra_mat (2D numpy array): array of input raman spectrum\n",
    "        w (int, optional): length of window. Defaults to 50.\n",
    "        dw (int, optional): step size. Defaults to 25.\n",
    "\n",
    "    Returns:\n",
    "        list of numpy array: list containing arrays of segmented raman spectrum\n",
    "    \"\"\"\n",
    "    \n",
    "    return [spectra_mat[:,i:i+w] for i in range(0,spectra_mat.shape[1]-w,dw) ]"
   ]
  }
 ],
 "metadata": {
  "anaconda-cloud": {},
  "kernelspec": {
   "display_name": "Python 3",
   "language": "python",
   "name": "python3"
  },
  "language_info": {
   "codemirror_mode": {
    "name": "ipython",
    "version": 3
   },
   "file_extension": ".py",
   "mimetype": "text/x-python",
   "name": "python",
   "nbconvert_exporter": "python",
   "pygments_lexer": "ipython3",
   "version": "3.7.13"
  }
 },
 "nbformat": 4,
 "nbformat_minor": 4
}
